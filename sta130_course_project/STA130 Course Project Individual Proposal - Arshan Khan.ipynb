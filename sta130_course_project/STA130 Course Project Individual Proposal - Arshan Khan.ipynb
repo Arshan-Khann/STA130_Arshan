{
 "cells": [
  {
   "cell_type": "markdown",
   "id": "7564e092",
   "metadata": {},
   "source": [
    "# Course Project Proposal - Arshan Khan"
   ]
  },
  {
   "cell_type": "markdown",
   "id": "45978b0d",
   "metadata": {},
   "source": [
    "#### Analysis 1:\n",
    "\n",
    "Question: Are people too busy in their relationships resulting in less social connection? Estimate if the population mean of satisfaction and connection for people in a relationship is higher than for people not in a relationship.\n",
    "\n",
    "Variables (2022 CROSS): DEMO_age, WELLNESS_life_satisfaction, CONNECTION_social_time_friends_p7d, DEMO_relationship_status_married, DEMO_relationship_status_relationship, DEMO_relationship_status_dating, DEMO_relationship_status_single, DEMO_relationship_status_widowed, DEMO_relationship_status_divorced, DEMO_relationship_status_common_law\n",
    "\n",
    "##### Method: Simulated sampling to find a p-value\n",
    "\n",
    "Since we are pretty much directly comparing categorical data such as age group and relationship status with non-categorical data such as life satisfaction, and time spent socializing with friends, we can assume the null hypothesis in a hypothesis test to find a p-value for our test statistic. The statistic in this hypothesis test will be the difference in mean of life satisfaction/social time friends for those in relationships and those not in relationships. It would make sense to split the data into different age groups such as \"Young Adult, Middle Aged, Seniors\" as maturity can play a big role into relationships and satisfaction. Multiple measures of relationship status are also included as to group those which are not in a relationship and those who are as a larger sample size will result in a lower error.\n",
    "\n",
    "Using visualizations such as box plots or violin plots would make sense as well since the data here is more categorical and it is easier to compare the different relationship statuses with satisfaction using box plots or violin plots as they both show where a majority of the data points are (interquartile range in the case of box plots). Each box will be a different type of relationship status and the satisfaction and social time will be on the vertical axis (not on the same visualization. There will be two visualizations here, one for WELLNESS_life_satisfaction, and one for CONNECTION_social_time_friends_p7d).\n",
    "\n",
    "To perform this method we must first get rid of the unnecessary data in the dataset and focus on the variables outlined above. Then missing values must be removed. Then split the data into age groups. Using boolean selection we can compare against the different age groups and the relationship status. Multiple visualizations would need to be used to visualize each of the age groups. I assume that the sample size is also consistent and plentiful between the categroies as it is entirely possible one category has 3 or 4 points while others have upwards of 50. I also assume ethnicity and culture do not play a role in the outcome.\n",
    "\n",
    "I suspect that the result I will find with this data will show that those in relationships result in lower life satisfaction and social connection on average. This would answer whether relationships have a negative impact on health and social connection or not since we will be able to see a relation between satisfaction/social connection and relationship status"
   ]
  },
  {
   "cell_type": "markdown",
   "id": "75420d11",
   "metadata": {},
   "source": [
    "#### Analysis 2:\n",
    "\n",
    "Question: Is playing video games or games online with others beneficial on people's health and happiness? Does the population mean of the difference in health/happiness differ for those who play and those who don't play games? \n",
    "\n",
    "Variables (2023 COHORT): CONNECTION_activities_computer_games_p3m, CONNECTION_activities_onlinegames_p3m, WELLNESS_self_rated_mental_health, WELLNESS_self_rated_physical_health, WELLNESS_subjective_happiness_scale_happy, WELLNESS_life_satisfaction\n",
    "\n",
    "CONNECTION_activities_computer_games_p3m is used as it specifically measures how often someone has played a video game with others in the past few months. We can interpret WELLNESS_self_rated_mental_health, WELLNESS_self_rated_physical_health as numerical values so that we can find a mean from them (for example a score of 0 would be 'fair', 1 would be 'good', -1 will be 'not good'. This way they can be measured effectively. WELLNESS_subjective_happiness_scale_happy, and WELLNESS_life_satisfaction are already numerical and give us information on happiness and satisfaction. There are multiple of these variables as there could be other causes to things such as happiness or life satisfaction so taking statistics from multiple different related data points will help eliminate that aspect. Once again, box plots are effective at comparing these 2 different categories of data (play video games and do not play video games with others) and the general health/happiness scores of the sample as we can directly see where a large amount of data lies in comparison to each category. There will be one visualization for  CONNECTION_activities_computer_games_p3m, and CONNECTION_activities_onlinegames_p3m as well as their respective vertical axis variables which will be WELLNESS_self_rated_mental_health, WELLNESS_self_rated_physical_health, WELLNESS_subjective_happiness_scale_happy, WELLNESS_life_satisfaction. Thus there will be 3 total visualizations.\n",
    "\n",
    "##### Method: Bootstrapping to find a confidence interval\n",
    "\n",
    "I plan to use this method by first grouping identical answers those who do not play games (longest time went before a video game was played) and shortest time someone has between playing video games using CONNECTION_activities_computer_games_p3m. From this, I will perform boolean selection to find those who have played video games and also have scores from the other variables (after converting them all to numerical values). After removing missing values, we can then get a sample mean of the mental health scores for each category (longest time and shortest time between sessions) of how often someone plays games with others. We can then find the difference in means and use this as our sample statistic. We can then do bootstrapping to find a bootstrapped sampling distribution of the difference in self rated mental health scores and then create a histogram. If the difference of 0 is in a 95% confidence interval, then that means that with 95% confidence video games do not change someone's health score which will mean that games dont have any benefits on health. We can then do this with the other health and social connection variables to get a better picture of whether video games have any benefits or alternatively adverse effects on people's health. \n",
    "\n",
    "Here I assume that a self rated score is a reliable way to gauge someone's happiness and general health. It is also assumed that COVID did not have an effect on the self rated scores since it is from a 2023 study. It is also assumed that the sample size of those who play video games vs those who don't are of comparable size. It also doesn't make sense to do simulated sampling through a hypothesis test since we are not assuming the null hypothesis.\n",
    "\n",
    "If the results of the confidence interval show that a difference in means of 0 is within the confidence interval, then we can say that playing video games with others does not have an effect on the happiness or health score of others and thus does not have a health benefit on others. If the results show that 0 is outside the confidence interval then we can say that it is likely that playing video games, on average, does have an effect on people's health and wellness."
   ]
  },
  {
   "cell_type": "markdown",
   "id": "f67e4a46",
   "metadata": {},
   "source": [
    "#### Analysis 3:\n",
    "\n",
    "Question: Does the amount of hours someone works affect how sad or depressed people feel? Are people enjoying their work? Is the slope parameter 0?\n",
    "\n",
    "Variables (2022 CROSS): PSYCH_big_five_inventory_sad, WORK_shift_length\n",
    "\n",
    "PSYCH_big_five_inventory_sad can be used by ranking the choice from negative to positive. For example, a score of 0 will be the choice of \"neither agree nor disgaree\", a highly positive choice will be \"strongly agree\" and a highly negative choice will be \"strongly disagree\", thus making things easier to compare. WORK_shift_length is used as it tells us a number of hours someone typically works in a given day. It may be worth considering other variables that measure depression or sadness such as WELLNESS_malach_pines_burnout_measure_depressed as more data will give a better picture.\n",
    "\n",
    "#### Method: Linear Regression\n",
    "Since finding the relationship between 2 variables is the main objective, the linear regression model fits well as it gives us a clear answer to if there is or isn't a relationship present. First, only taking relevant information will be necessary so using boolean selection, we need to get only the data pertaining to the variables. Then we must remove the missing values. From here we can plot these data points of WORK_shift_length vs PSYCH_big_five_inventory_sad (using corresponding numerical values). From here we can fit these datapoints to a linear regression model using ols which will give us the data we need. If the slope parameter is 0, then we can conclude that there is no relationship and the hours someone works does not affect their sadness.\n",
    "\n",
    "Here I assume that the data follows a linear relationship and can be fitted to a simple linear regression model. It is assumed that the residuals of the outcomes are normally distributed as well.\n",
    "\n",
    "Visualizing this with a scatter plot is ideal for showing whether there is a correlation or relationship between the two variables it will be easier to see an upward or downward trend in the data. Visualizing a histogram plotting the residuals may also need to be necessary to determine whether it follows a normal distribution.\n",
    "\n",
    "If the slope parameter is 0, then we can conclude that there is no relationship and the hours someone works does not affect their sadness. If the slope parameter is not 0 then we can infer that there is a correlation between the hours typical number of hours someone works with how sad they may feel."
   ]
  }
 ],
 "metadata": {
  "kernelspec": {
   "display_name": "Python 3 (ipykernel)",
   "language": "python",
   "name": "python3"
  },
  "language_info": {
   "codemirror_mode": {
    "name": "ipython",
    "version": 3
   },
   "file_extension": ".py",
   "mimetype": "text/x-python",
   "name": "python",
   "nbconvert_exporter": "python",
   "pygments_lexer": "ipython3",
   "version": "3.11.6"
  }
 },
 "nbformat": 4,
 "nbformat_minor": 5
}
